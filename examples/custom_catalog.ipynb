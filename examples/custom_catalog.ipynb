{
 "cells": [
  {
   "cell_type": "markdown",
   "metadata": {},
   "source": [
    "# Custom catalog\n",
    "\n",
    "Here we'll demonstrate creating a custom catalog using the ESGF catalog driver.\n",
    "\n",
    "Documentation for Intake [YAML catalogs](https://intake.readthedocs.io/en/latest/catalog.html#yaml-format).\n",
    "\n",
    "First we'll create a catalog file containing our sources."
   ]
  },
  {
   "cell_type": "code",
   "execution_count": null,
   "metadata": {},
   "outputs": [],
   "source": [
    "%%script bash\n",
    "cat << EOF > test_catalog.yaml\n",
    "metadata:\n",
    "    version: 1\n",
    "sources:\n",
    "    cmip5:\n",
    "        driver: esgf-catalog\n",
    "        args:\n",
    "            preset: CMIP5\n",
    "            chunks:\n",
    "                time: 50\n",
    "            url: \"https://esgf-node.llnl.gov/esg-search/search\"\n",
    "EOF"
   ]
  },
  {
   "cell_type": "markdown",
   "metadata": {},
   "source": [
    "# Load the catalog\n",
    "\n",
    "Next we can take the catalog created in the previous step and use it with Intake."
   ]
  },
  {
   "cell_type": "code",
   "execution_count": null,
   "metadata": {},
   "outputs": [],
   "source": [
    "import intake"
   ]
  },
  {
   "cell_type": "code",
   "execution_count": null,
   "metadata": {},
   "outputs": [],
   "source": [
    "cat = intake.open_catalog(\"test_catalog.yaml\")"
   ]
  },
  {
   "cell_type": "markdown",
   "metadata": {},
   "source": [
    "# View the sources\n",
    "\n",
    "Now we can view the sources contained in the catalog and begin using it to find data."
   ]
  },
  {
   "cell_type": "code",
   "execution_count": null,
   "metadata": {},
   "outputs": [],
   "source": [
    "# List the sources in the catalog.\n",
    "list(cat)"
   ]
  },
  {
   "cell_type": "code",
   "execution_count": null,
   "metadata": {},
   "outputs": [],
   "source": [
    "# List the facet values and counts.\n",
    "cat.cmip5.facet_values(True)"
   ]
  },
  {
   "cell_type": "code",
   "execution_count": null,
   "metadata": {},
   "outputs": [],
   "source": [
    "results = cat.cmip5.search(variable=\"clt\", frequency=\"mon\")\n",
    "results"
   ]
  },
  {
   "cell_type": "code",
   "execution_count": null,
   "metadata": {},
   "outputs": [],
   "source": []
  },
  {
   "cell_type": "code",
   "execution_count": null,
   "metadata": {},
   "outputs": [],
   "source": []
  }
 ],
 "metadata": {
  "kernelspec": {
   "display_name": "intake-esgf",
   "language": "python",
   "name": "intake-esgf"
  },
  "language_info": {
   "codemirror_mode": {
    "name": "ipython",
    "version": 3
   },
   "file_extension": ".py",
   "mimetype": "text/x-python",
   "name": "python",
   "nbconvert_exporter": "python",
   "pygments_lexer": "ipython3",
   "version": "3.6.11"
  }
 },
 "nbformat": 4,
 "nbformat_minor": 4
}
